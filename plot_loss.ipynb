{
 "cells": [
  {
   "cell_type": "code",
   "execution_count": 3,
   "metadata": {
    "collapsed": false
   },
   "outputs": [],
   "source": [
    "import matplotlib.pyplot as plt\n",
    "vals =[]\n",
    "test_vals = []\n",
    "accur_vals = []\n",
    "with open('log2.txt', 'r') as f:\n",
    "    for line in f:\n",
    "        if 'Iteration' in line and 'loss =' in line:\n",
    "            id = line.find('loss')\n",
    "            vals.append(float(line[id + 7:]))\n",
    "        if 'Test net output' in line:\n",
    "            if 'accuracy' in line:\n",
    "                id = line.find('accuracy = ')\n",
    "                accur_vals.append(float(line[id + 11:]))\n",
    "            elif 'loss' in line:\n",
    "                id = line.find('loss = ')\n",
    "                test_vals.append(float(line[id + 7:id+13]))\n",
    "plt.plot(vals)\n",
    "plt.show()\n",
    "plt.plot(test_vals)\n",
    "plt.show()"
   ]
  },
  {
   "cell_type": "code",
   "execution_count": 17,
   "metadata": {
    "collapsed": false
   },
   "outputs": [
    {
     "data": {
      "text/plain": [
       "[2.7963,\n",
       " 2.3031,\n",
       " 2.3072,\n",
       " 2.304,\n",
       " 2.2865,\n",
       " 2.1205,\n",
       " 1.717,\n",
       " 0.859,\n",
       " 0.9429,\n",
       " 1.0415,\n",
       " 1.0914,\n",
       " 0.9633,\n",
       " 0.8982,\n",
       " 0.8689,\n",
       " 0.8562]"
      ]
     },
     "execution_count": 17,
     "metadata": {},
     "output_type": "execute_result"
    }
   ],
   "source": [
    "test_vals\n"
   ]
  },
  {
   "cell_type": "code",
   "execution_count": 48,
   "metadata": {
    "collapsed": false
   },
   "outputs": [
    {
     "data": {
      "text/plain": [
       "True"
      ]
     },
     "execution_count": 48,
     "metadata": {},
     "output_type": "execute_result"
    }
   ],
   "source": [
    "import cv2\n",
    "from skimage import io as skiio\n",
    "from skimage.transform import resize\n",
    "img1= skiio.imread('img_34.jpg')\n",
    "img2 = cv2.imread('img_34.jpg')t\n",
    "img3 = cv2.resize(img2, (256,256))\n",
    "img = img1[:,:,[2,1,0]]\n",
    "image = resize(img, (256,256),preserve_range=True)\n",
    "cv2.imwrite('shit1.jpg', image)\n",
    "cv2.imwrite('shit2.jpg', img3)"
   ]
  },
  {
   "cell_type": "code",
   "execution_count": 49,
   "metadata": {
    "collapsed": false
   },
   "outputs": [
    {
     "data": {
      "text/plain": [
       "numpy.ndarray"
      ]
     },
     "execution_count": 49,
     "metadata": {},
     "output_type": "execute_result"
    }
   ],
   "source": [
    "type(image)"
   ]
  },
  {
   "cell_type": "code",
   "execution_count": 6,
   "metadata": {
    "collapsed": false
   },
   "outputs": [
    {
     "data": {
      "text/plain": [
       "(480, 640, 3)"
      ]
     },
     "execution_count": 6,
     "metadata": {},
     "output_type": "execute_result"
    }
   ],
   "source": [
    "img2.shape"
   ]
  },
  {
   "cell_type": "code",
   "execution_count": 9,
   "metadata": {
    "collapsed": false
   },
   "outputs": [],
   "source": [
    "img = img1[:,:,[2,1,0]]"
   ]
  },
  {
   "cell_type": "code",
   "execution_count": null,
   "metadata": {
    "collapsed": false
   },
   "outputs": [],
   "source": []
  },
  {
   "cell_type": "code",
   "execution_count": 39,
   "metadata": {
    "collapsed": false
   },
   "outputs": [],
   "source": [
    "image = image[:,:,[2,1,0]]"
   ]
  },
  {
   "cell_type": "code",
   "execution_count": 36,
   "metadata": {
    "collapsed": false
   },
   "outputs": [
    {
     "data": {
      "text/plain": [
       "<matplotlib.image.AxesImage at 0x10c9ca110>"
      ]
     },
     "execution_count": 36,
     "metadata": {},
     "output_type": "execute_result"
    }
   ],
   "source": [
    "skiio.imshow(image)"
   ]
  },
  {
   "cell_type": "code",
   "execution_count": 37,
   "metadata": {
    "collapsed": true
   },
   "outputs": [],
   "source": [
    "skiio.show()"
   ]
  },
  {
   "cell_type": "code",
   "execution_count": null,
   "metadata": {
    "collapsed": false
   },
   "outputs": [],
   "source": []
  },
  {
   "cell_type": "code",
   "execution_count": null,
   "metadata": {
    "collapsed": false
   },
   "outputs": [],
   "source": []
  },
  {
   "cell_type": "code",
   "execution_count": null,
   "metadata": {
    "collapsed": true
   },
   "outputs": [],
   "source": []
  }
 ],
 "metadata": {
  "kernelspec": {
   "display_name": "Python 2",
   "language": "python",
   "name": "python2"
  },
  "language_info": {
   "codemirror_mode": {
    "name": "ipython",
    "version": 2
   },
   "file_extension": ".py",
   "mimetype": "text/x-python",
   "name": "python",
   "nbconvert_exporter": "python",
   "pygments_lexer": "ipython2",
   "version": "2.7.11"
  }
 },
 "nbformat": 4,
 "nbformat_minor": 0
}
