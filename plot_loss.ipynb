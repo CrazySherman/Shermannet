{
 "cells": [
  {
   "cell_type": "code",
   "execution_count": 18,
   "metadata": {
    "collapsed": false
   },
   "outputs": [
    {
     "name": "stdout",
     "output_type": "stream",
     "text": [
      "[2.7963, 2.3031, 2.3072, 2.304, 2.2865, 2.1205, 1.717, 0.859, 0.9429, 1.0415, 1.0914, 0.9633, 0.8982, 0.8689, 0.8562]\n",
      "[0.07, 0.105, 0.104531, 0.118125, 0.117656, 0.253125, 0.501094, 0.712188, 0.740156, 0.760312, 0.725781, 0.754375, 0.776875, 0.794531, 0.777969]\n"
     ]
    }
   ],
   "source": [
    "import matplotlib.pyplot as plt\n",
    "vals =[]\n",
    "test_vals = []\n",
    "accur_vals = []\n",
    "with open('logs', 'r') as f:\n",
    "    for line in f:\n",
    "        if 'Iteration' in line and 'loss =' in line:\n",
    "            id = line.find('loss')\n",
    "            vals.append(float(line[id + 7:]))\n",
    "        if 'Test net output' in line:\n",
    "            if 'accuracy' in line:\n",
    "                id = line.find('accuracy = ')\n",
    "                accur_vals.append(float(line[id + 11:]))\n",
    "            elif 'loss' in line:\n",
    "                id = line.find('loss = ')\n",
    "                test_vals.append(float(line[id + 7:id+13]))\n",
    "plt.plot(vals)\n",
    "plt.show()\n",
    "print test_vals\n",
    "print accur_vals"
   ]
  },
  {
   "cell_type": "code",
   "execution_count": 17,
   "metadata": {
    "collapsed": false
   },
   "outputs": [
    {
     "data": {
      "text/plain": [
       "[2.7963,\n",
       " 2.3031,\n",
       " 2.3072,\n",
       " 2.304,\n",
       " 2.2865,\n",
       " 2.1205,\n",
       " 1.717,\n",
       " 0.859,\n",
       " 0.9429,\n",
       " 1.0415,\n",
       " 1.0914,\n",
       " 0.9633,\n",
       " 0.8982,\n",
       " 0.8689,\n",
       " 0.8562]"
      ]
     },
     "execution_count": 17,
     "metadata": {},
     "output_type": "execute_result"
    }
   ],
   "source": [
    "test_vals\n"
   ]
  },
  {
   "cell_type": "code",
   "execution_count": null,
   "metadata": {
    "collapsed": true
   },
   "outputs": [],
   "source": []
  },
  {
   "cell_type": "code",
   "execution_count": null,
   "metadata": {
    "collapsed": true
   },
   "outputs": [],
   "source": []
  },
  {
   "cell_type": "code",
   "execution_count": null,
   "metadata": {
    "collapsed": true
   },
   "outputs": [],
   "source": []
  }
 ],
 "metadata": {
  "kernelspec": {
   "display_name": "Python 2",
   "language": "python",
   "name": "python2"
  },
  "language_info": {
   "codemirror_mode": {
    "name": "ipython",
    "version": 2
   },
   "file_extension": ".py",
   "mimetype": "text/x-python",
   "name": "python",
   "nbconvert_exporter": "python",
   "pygments_lexer": "ipython2",
   "version": "2.7.11"
  }
 },
 "nbformat": 4,
 "nbformat_minor": 0
}
