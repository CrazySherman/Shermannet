{
 "cells": [
  {
   "cell_type": "code",
   "execution_count": 1,
   "metadata": {
    "collapsed": false
   },
   "outputs": [],
   "source": [
    "##  Some magic to auto-reload modules\n",
    "%load_ext autoreload\n",
    "%autoreload 2"
   ]
  },
  {
   "cell_type": "code",
   "execution_count": 6,
   "metadata": {
    "collapsed": false
   },
   "outputs": [
    {
     "ename": "ImportError",
     "evalue": "No module named pandas",
     "output_type": "error",
     "traceback": [
      "\u001b[0;31m---------------------------------------------------------------------------\u001b[0m",
      "\u001b[0;31mImportError\u001b[0m                               Traceback (most recent call last)",
      "\u001b[0;32m<ipython-input-6-e0789e6b7196>\u001b[0m in \u001b[0;36m<module>\u001b[0;34m()\u001b[0m\n\u001b[1;32m      4\u001b[0m \u001b[0;32mfrom\u001b[0m \u001b[0mscipy\u001b[0m\u001b[0;34m.\u001b[0m\u001b[0mmisc\u001b[0m \u001b[0;32mimport\u001b[0m \u001b[0mimread\u001b[0m\u001b[0;34m,\u001b[0m \u001b[0mimresize\u001b[0m\u001b[0;34m\u001b[0m\u001b[0m\n\u001b[1;32m      5\u001b[0m \u001b[0;32mimport\u001b[0m \u001b[0mpickle\u001b[0m\u001b[0;34m\u001b[0m\u001b[0m\n\u001b[0;32m----> 6\u001b[0;31m \u001b[0;32mimport\u001b[0m \u001b[0mpandas\u001b[0m \u001b[0;32mas\u001b[0m \u001b[0mpd\u001b[0m\u001b[0;34m\u001b[0m\u001b[0m\n\u001b[0m",
      "\u001b[0;31mImportError\u001b[0m: No module named pandas"
     ]
    }
   ],
   "source": [
    "import os\n",
    "import numpy as np\n",
    "\n",
    "from scipy.misc import imread, imresize\n",
    "import pickle \n",
    "import pandas as pd"
   ]
  },
  {
   "cell_type": "code",
   "execution_count": null,
   "metadata": {
    "collapsed": false
   },
   "outputs": [],
   "source": [
    "from keras.models import Sequential\n",
    "from keras.layers.core import Dense, Dropout, Activation, Flatten\n",
    "from keras.layersdd.convolutional import Convolution2D, MaxPooling2D\n",
    "from keras.layers.normalization import BatchNormalization\n",
    "from keras.regularizers import l2\n",
    "from keras.activations import relu\n",
    "from keras.layers.advanced_activations import PReLU, LeakyReLU\n",
    "from keras.optimizers import SGD, Adagrad\n",
    "from keras.utils import np_utils\n",
    "from keras.callbacks import ModelCheckpoint"
   ]
  },
  {
   "cell_type": "code",
   "execution_count": 4,
   "metadata": {
    "collapsed": false
   },
   "outputs": [
    {
     "name": "stdout",
     "output_type": "stream",
     "text": [
      "0\n"
     ]
    }
   ],
   "source": [
    "from data_aug import aug_algo"
   ]
  },
  {
   "cell_type": "code",
   "execution_count": 5,
   "metadata": {
    "collapsed": false
   },
   "outputs": [
    {
     "ename": "NameError",
     "evalue": "name 'pd' is not defined",
     "output_type": "error",
     "traceback": [
      "\u001b[0;31m---------------------------------------------------------------------------\u001b[0m",
      "\u001b[0;31mNameError\u001b[0m                                 Traceback (most recent call last)",
      "\u001b[0;32m<ipython-input-5-f9ac0f36d7ac>\u001b[0m in \u001b[0;36m<module>\u001b[0;34m()\u001b[0m\n\u001b[1;32m      4\u001b[0m           \u001b[0;34m'talking on the phone - left'\u001b[0m\u001b[0;34m,\u001b[0m \u001b[0;34m'operating the radio'\u001b[0m\u001b[0;34m,\u001b[0m \u001b[0;34m'drinking'\u001b[0m\u001b[0;34m,\u001b[0m \u001b[0;34m'reaching behind'\u001b[0m\u001b[0;34m,\u001b[0m\u001b[0;34m\u001b[0m\u001b[0m\n\u001b[1;32m      5\u001b[0m           'hair and makeup', 'talking to passenger']\n\u001b[0;32m----> 6\u001b[0;31m \u001b[0mdriver_img_list\u001b[0m \u001b[0;34m=\u001b[0m \u001b[0mpd\u001b[0m\u001b[0;34m.\u001b[0m\u001b[0mread_csv\u001b[0m\u001b[0;34m(\u001b[0m\u001b[0;34m'driver_imgs_list.csv'\u001b[0m\u001b[0;34m)\u001b[0m\u001b[0;34m\u001b[0m\u001b[0m\n\u001b[0m\u001b[1;32m      7\u001b[0m \u001b[0msubjectLE\u001b[0m \u001b[0;34m=\u001b[0m \u001b[0mLabelEncoder\u001b[0m\u001b[0;34m(\u001b[0m\u001b[0;34m)\u001b[0m\u001b[0;34m\u001b[0m\u001b[0m\n\u001b[1;32m      8\u001b[0m \u001b[0msubjectID\u001b[0m \u001b[0;34m=\u001b[0m \u001b[0msubjectLE\u001b[0m\u001b[0;34m.\u001b[0m\u001b[0mfit_transform\u001b[0m\u001b[0;34m(\u001b[0m\u001b[0mdriver_img_list\u001b[0m\u001b[0;34m.\u001b[0m\u001b[0msubject\u001b[0m\u001b[0;34m.\u001b[0m\u001b[0mtolist\u001b[0m\u001b[0;34m(\u001b[0m\u001b[0;34m)\u001b[0m\u001b[0;34m)\u001b[0m\u001b[0;34m\u001b[0m\u001b[0m\n",
      "\u001b[0;31mNameError\u001b[0m: name 'pd' is not defined"
     ]
    }
   ],
   "source": [
    "train_dir = '/Users/wsm/Downloads/imgs/train/'\n",
    "test_dir = '/Users/wsm/Downloads/imgs/test/'\n",
    "titles = ['safe driving', 'texting - right', 'talking on the phone - right', 'texting - left',\n",
    "          'talking on the phone - left', 'operating the radio', 'drinking', 'reaching behind', \n",
    "          'hair and makeup', 'talking to passenger']\n",
    "driver_img_list = pd.read_csv('driver_imgs_list.csv')\n",
    "subjectLE = LabelEncoder()\n",
    "subjectID = subjectLE.fit_transform(driver_img_list.subject.tolist())\n",
    "\n",
    "classLE = LabelEncoder()\n",
    "classID = classLE.fit_transform(driver_img_list.classname.tolist())\n",
    "driver_img_list.loc[:,'subjectID'] = pd.Series(subjectID, index=driver_img_list.index)\n",
    "driver_img_list.loc[:,'classID'] = pd.Series(classID, index=driver_img_list.index)"
   ]
  },
  {
   "cell_type": "code",
   "execution_count": 5,
   "metadata": {
    "collapsed": true
   },
   "outputs": [],
   "source": [
    "nb_classes = 10\n",
    "img_rows, img_cols = 60, 80\n",
    "img_channels = 3"
   ]
  },
  {
   "cell_type": "code",
   "execution_count": 6,
   "metadata": {
    "collapsed": false
   },
   "outputs": [],
   "source": [
    "def load_train_data(img_list, augment = False):\n",
    "    train_x = []\n",
    "    train_y = []\n",
    "    aug_method = []\n",
    "    train_subject = []\n",
    "    algo = aug_algo()\n",
    "    for i in range(img_list.shape[0]):\n",
    "        img_name = format('%s/%s/%s' %(train_dir, img_list.iloc[i].classname, img_list.iloc[i].img))\n",
    "        img = imresize(imread(img_name), (img_rows, img_cols))\n",
    "        img_y = img_list.classID.iloc[i]\n",
    "        img_subject = img_list.subjectID.iloc[i]\n",
    "        train_x += [np.rollaxis(img, 2)]\n",
    "        train_y += [img_y]\n",
    "        train_subject += [img_subject]\n",
    "        aug_method += [0]\n",
    "        if (augment):\n",
    "            ## Shift left\n",
    "                img_shift_left = algo.horizShiftLeft(img, 0.05, 0.15)\n",
    "                train_x += [np.rollaxis(img_shift_left, 2)]\n",
    "                train_y += [img_y]\n",
    "                train_subject += [img_subject]\n",
    "                aug_method += [1]\n",
    "\n",
    "            ## Shift Right\n",
    "                img_shift_right = algo.horizShiftRight(img, 0.05, 0.15)\n",
    "                train_x += [np.rollaxis(img_shift_right, 2)]\n",
    "                train_y += [img_y]\n",
    "                train_subject += [img_subject]\n",
    "                aug_method += [2]\n",
    "            \n",
    "            ## Vertical shift up\n",
    "                img_shift_up = algo.vertiShiftUp(img, 0.05, 0.15)\n",
    "                train_x += [np.rollaxis(img_shift_up, 2)]\n",
    "                train_y += [img_y]\n",
    "                train_subject += [img_subject]\n",
    "                aug_method += [3]\n",
    "                \n",
    "            ## Vertical shift down\n",
    "                img_shift_down = algo.vertiShiftDown(img, 0.05, 0.15)\n",
    "                train_x += [np.rollaxis(img_shift_down, 2)]\n",
    "                train_y += [img_y]\n",
    "                train_subject += [img_subject]\n",
    "                aug_method += [4]\n",
    "            \n",
    "            ## Rotate CCW\n",
    "                img_rotate_cw = algo.rotatedCW(img, 0.15, 0.25, 1.2)\n",
    "                train_x += [np.rollaxis(img_rotate_cw, 2)]\n",
    "                train_y += [img_y]\n",
    "                train_subject += [img_subject]\n",
    "                aug_method += [5]\n",
    "            \n",
    "            ## Rotate CW\n",
    "                img_rotate_ccw = algo.rotatedCCW(img, 0.15, 0.25, 1.2)\n",
    "                train_x += [np.rollaxis(img_rotate_ccw, 2)]\n",
    "                train_y += [img_y]\n",
    "                train_subject += [img_subject]\n",
    "                aug_method += [6]\n",
    "            \n",
    "            ## Crop and zoom\n",
    "                img_zoom = algo.cropSkretch(img, 0.05, 0.15)\n",
    "                train_x += [np.rollaxis(img_zoom, 2)]\n",
    "                train_y += [img_y]\n",
    "                train_subject += [img_subject]\n",
    "                aug_method += [7]\n",
    "            \n",
    "        if ((i+1)%3000==0):\n",
    "            print(\"Loaded %d\" %(i+1))\n",
    "    \n",
    "    return (np.array(train_x), np.array(train_y), np.array(train_subject), np.array(aug_method))"
   ]
  },
  {
   "cell_type": "code",
   "execution_count": 7,
   "metadata": {
    "collapsed": true
   },
   "outputs": [],
   "source": [
    "def show_img(img):\n",
    "    plt.imshow(np.rollaxis(np.rollaxis(img,2), 2))"
   ]
  },
  {
   "cell_type": "code",
   "execution_count": null,
   "metadata": {
    "collapsed": false
   },
   "outputs": [
    {
     "name": "stdout",
     "output_type": "stream",
     "text": [
      "Loaded 3000\n",
      "Loaded 6000\n"
     ]
    }
   ],
   "source": [
    "(train_x, train_y, train_subject, aug_method) = load_train_data(driver_img_list, True)"
   ]
  },
  {
   "cell_type": "code",
   "execution_count": null,
   "metadata": {
    "collapsed": false
   },
   "outputs": [],
   "source": [
    "f = open('train6080_aug.save', 'wb')\n",
    "pickle.dump(a, f, protocol=pickle.HIGHEST_PROTOCOL)\n",
    "pickle.dump(b, f, protocol=pickle.HIGHEST_PROTOCOL)\n",
    "pickle.dump(train_y, f, protocol=pickle.HIGHEST_PROTOCOL)\n",
    "pickle.dump(train_subject, f, protocol=pickle.HIGHEST_PROTOCOL)\n",
    "pickle.dump(aug_method, f, protocol=pickle.HIGHEST_PROTOCOL)\n",
    "f.close()"
   ]
  },
  {
   "cell_type": "code",
   "execution_count": null,
   "metadata": {
    "collapsed": false
   },
   "outputs": [],
   "source": [
    "with open('train6080_aug.save', 'rb') as f:\n",
    "    a = pickle.load(f)\n",
    "    b = pickle.load(f)\n",
    "    train_x = np.concatenate((a,b))\n",
    "    train_y = pickle.load(f)\n",
    "    train_y = np_utils.to_categorical(train_y)\n",
    "    train_subject = pickle.load(f)\n",
    "    aug_method = pickle.load(f)\n",
    "\n",
    "    \n"
   ]
  },
  {
   "cell_type": "markdown",
   "metadata": {},
   "source": [
    "# Cross validation"
   ]
  },
  {
   "cell_type": "code",
   "execution_count": null,
   "metadata": {
    "collapsed": false
   },
   "outputs": [],
   "source": [
    "if not load_mask:\n",
    "\tprint (\"Selecting 3 drivers for validation\")\n",
    "\tvalid_drivers = np.random.choice(np.unique(train_subject), 3)\n",
    "\tvalid_mask = np.in1d(train_subject, valid_drivers)\n",
    "\twith open(mask_path, 'wb') as fmask:\n",
    "\t\tpickle.dump(valid_mask, fmask, protocol=pickle.HIGHEST_PROTOCOL)\n",
    "\t\tfmask.close()\n",
    "else:\n",
    "\twith open(mask_path, 'rb') as fmask:\n",
    "\t\tvalid_mask = pickle.load(fmask)\n",
    "\t\tfmask.close()"
   ]
  },
  {
   "cell_type": "code",
   "execution_count": null,
   "metadata": {
    "collapsed": false
   },
   "outputs": [],
   "source": [
    "train_set = train_x[~valid_mask]\n",
    "valid_set = train_x[np.logical_and(valid_mask, aug_method==0)]\n",
    "\n",
    "Y_train = train_y[np.flatnonzero(~valid_mask),:]\n",
    "Y_valid = train_y[np.logical_and(valid_mask, aug_method==0),:]"
   ]
  },
  {
   "cell_type": "code",
   "execution_count": null,
   "metadata": {
    "collapsed": false
   },
   "outputs": [],
   "source": [
    "Y_valid.shape"
   ]
  },
  {
   "cell_type": "code",
   "execution_count": null,
   "metadata": {
    "collapsed": false
   },
   "outputs": [],
   "source": [
    "X_train = train_set.astype('float32')\n",
    "X_train /= 255\n",
    "\n",
    "X_valid = valid_set.astype('float32')\n",
    "X_valid /= 255\n",
    "\n",
    "\n"
   ]
  },
  {
   "cell_type": "code",
   "execution_count": null,
   "metadata": {
    "collapsed": false
   },
   "outputs": [],
   "source": [
    "X_mean = np.mean(X_train, axis=(0,2,3))\n",
    "X_train[:,0,:, :] -= X_mean[0]\n",
    "X_train[:,1,:, :] -= X_mean[1]\n",
    "X_train[:,2,:, :] -= X_mean[2]\n",
    "\n",
    "\n",
    "X_valid[:,0,:, :] -= X_mean[0]\n",
    "X_valid[:,1,:, :] -= X_mean[1]\n",
    "X_valid[:,2,:, :] -= X_mean[2]"
   ]
  },
  {
   "cell_type": "code",
   "execution_count": null,
   "metadata": {
    "collapsed": false
   },
   "outputs": [],
   "source": [
    "model = Sequential()\n",
    "\n",
    "model.add(Convolution2D(64, 3, 3, border_mode='same',\n",
    "                        input_shape=(img_channels, img_rows, img_cols)))\n",
    "model.add(Activation('relu'))\n",
    "\n",
    "model.add(Convolution2D(64, 3, 3, border_mode='same'))\n",
    "model.add(Activation('relu'))\n",
    "\n",
    "model.add(MaxPooling2D(pool_size=(2,2), strides=(2,2)))\n",
    "model.add(Dropout(0.25))\n",
    "\n",
    "model.add(Convolution2D(128, 3, 3, border_mode='same'))\n",
    "model.add(Activation('relu'))\n",
    "\n",
    "model.add(Convolution2D(128, 3, 3, border_mode='same'))\n",
    "model.add(Activation('relu'))\n",
    "\n",
    "model.add(MaxPooling2D(pool_size=(2,2), strides=(2,2)))\n",
    "model.add(Dropout(0.25))\n",
    "\n",
    "model.add(Convolution2D(256, 3, 3, border_mode='same'))\n",
    "model.add(Activation('relu'))\n",
    "\n",
    "model.add(Convolution2D(256, 3, 3, border_mode='same'))\n",
    "model.add(Activation('relu'))\n",
    "\n",
    "model.add(Convolution2D(256, 3, 3, border_mode='same'))\n",
    "model.add(Activation('relu'))\n",
    "\n",
    "\n",
    "model.add(Convolution2D(256, 3, 3, border_mode='same'))\n",
    "model.add(Activation('relu'))\n",
    "\n",
    "model.add(MaxPooling2D(pool_size=(2,2), strides=(2,2)))\n",
    "model.add(Dropout(0.25))\n",
    "\n",
    "\n",
    "model.add(Flatten())\n",
    "\n",
    "model.add(Dense(1024))\n",
    "model.add(Activation('relu'))\n",
    "\n",
    "model.add(Dropout(0.5))\n",
    "\n",
    "model.add(Dense(1024))\n",
    "model.add(Activation('relu'))\n",
    "\n",
    "model.add(Dropout(0.5))\n",
    "\n",
    "model.add(Dense(nb_classes))\n",
    "model.add(Activation('softmax'))\n",
    "\n",
    "sgd = SGD(lr=0.03, decay=5e-5, momentum=0.9, nestrov=True)\n",
    "model.compile(loss='categorical_crossentropy', optimizer=sgd)"
   ]
  },
  {
   "cell_type": "code",
   "execution_count": 7,
   "metadata": {
    "collapsed": false
   },
   "outputs": [
    {
     "ename": "NameError",
     "evalue": "name 'model' is not defined",
     "output_type": "error",
     "traceback": [
      "\u001b[0;31m---------------------------------------------------------------------------\u001b[0m",
      "\u001b[0;31mNameError\u001b[0m                                 Traceback (most recent call last)",
      "\u001b[0;32m<ipython-input-7-6244077be927>\u001b[0m in \u001b[0;36m<module>\u001b[0;34m()\u001b[0m\n\u001b[0;32m----> 1\u001b[0;31m model.fit(X_train, Y_train, batch_size=32, nb_epoch=100, shuffle=True,\n\u001b[0m\u001b[1;32m      2\u001b[0m           validation_data=(X_valid, Y_valid), verbose=1)\n",
      "\u001b[0;31mNameError\u001b[0m: name 'model' is not defined"
     ]
    }
   ],
   "source": [
    "model.fit(X_train, Y_train, batch_size=32, nb_epoch=100, shuffle=True,\n",
    "          validation_data=(X_valid, Y_valid), verbose=1)"
   ]
  },
  {
   "cell_type": "code",
   "execution_count": 8,
   "metadata": {
    "collapsed": true
   },
   "outputs": [],
   "source": [
    "a = [1,2,3]\n"
   ]
  },
  {
   "cell_type": "code",
   "execution_count": 9,
   "metadata": {
    "collapsed": true
   },
   "outputs": [],
   "source": [
    "a += [4]"
   ]
  },
  {
   "cell_type": "code",
   "execution_count": 10,
   "metadata": {
    "collapsed": false
   },
   "outputs": [
    {
     "data": {
      "text/plain": [
       "[1, 2, 3, 4]"
      ]
     },
     "execution_count": 10,
     "metadata": {},
     "output_type": "execute_result"
    }
   ],
   "source": [
    "a"
   ]
  },
  {
   "cell_type": "code",
   "execution_count": 11,
   "metadata": {
    "collapsed": true
   },
   "outputs": [],
   "source": [
    "a = np.array([1,2,3])\n"
   ]
  },
  {
   "cell_type": "code",
   "execution_count": 12,
   "metadata": {
    "collapsed": false
   },
   "outputs": [
    {
     "data": {
      "text/plain": [
       "array([1, 2, 3])"
      ]
     },
     "execution_count": 12,
     "metadata": {},
     "output_type": "execute_result"
    }
   ],
   "source": [
    "a"
   ]
  },
  {
   "cell_type": "code",
   "execution_count": 15,
   "metadata": {
    "collapsed": true
   },
   "outputs": [],
   "source": [
    "b = []\n",
    "b.append(a)"
   ]
  },
  {
   "cell_type": "code",
   "execution_count": 19,
   "metadata": {
    "collapsed": false
   },
   "outputs": [
    {
     "name": "stdout",
     "output_type": "stream",
     "text": [
      "[1 2 3]\n"
     ]
    }
   ],
   "source": [
    "c = [a]\n",
    "for cc in c:\n",
    "    print cc"
   ]
  },
  {
   "cell_type": "code",
   "execution_count": null,
   "metadata": {
    "collapsed": true
   },
   "outputs": [],
   "source": []
  }
 ],
 "metadata": {
  "kernelspec": {
   "display_name": "Python 2",
   "language": "python",
   "name": "python2"
  },
  "language_info": {
   "codemirror_mode": {
    "name": "ipython",
    "version": 2
   },
   "file_extension": ".py",
   "mimetype": "text/x-python",
   "name": "python",
   "nbconvert_exporter": "python",
   "pygments_lexer": "ipython2",
   "version": "2.7.11"
  }
 },
 "nbformat": 4,
 "nbformat_minor": 0
}
